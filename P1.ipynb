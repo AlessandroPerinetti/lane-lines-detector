{
 "cells": [
  {
   "cell_type": "markdown",
   "metadata": {},
   "source": [
    "# Project: Finding Lane Lines on the Road"
   ]
  },
  {
   "cell_type": "markdown",
   "metadata": {},
   "source": [
    "Import useful packages"
   ]
  },
  {
   "cell_type": "code",
   "execution_count": 1,
   "metadata": {},
   "outputs": [],
   "source": [
    "#importing some useful packages\n",
    "import matplotlib.pyplot as plt\n",
    "import matplotlib.image as mpimg\n",
    "import numpy as np\n",
    "import cv2\n",
    "import math\n",
    "import pandas as pd\n",
    "%matplotlib inline\n",
    "\n",
    "# Import everything needed to edit/save/watch video clips\n",
    "from moviepy.editor import VideoFileClip\n",
    "from IPython.display import HTML"
   ]
  },
  {
   "cell_type": "markdown",
   "metadata": {},
   "source": [
    "Functions"
   ]
  },
  {
   "cell_type": "code",
   "execution_count": 2,
   "metadata": {},
   "outputs": [],
   "source": [
    "def grayscale(img):\n",
    "    \"\"\"Return an image in grayscale\n",
    "       To show the image: plt.imshow(gray, cmap='gray')\"\"\"\n",
    "    return cv2.cvtColor(img, cv2.COLOR_RGB2GRAY)\n",
    "    # Or use BGR2GRAY if you read an image with cv2.imread()\n",
    "    # return cv2.cvtColor(img, cv2.COLOR_BGR2GRAY)\n",
    "    \n",
    "def canny(img, low_threshold, high_threshold):\n",
    "    \"\"\"Applies the Canny transform\"\"\"\n",
    "    return cv2.Canny(img, low_threshold, high_threshold)\n",
    "\n",
    "def gaussian_blur(img, kernel_size):\n",
    "    \"\"\"Applies a Gaussian Noise kernel\"\"\"\n",
    "    return cv2.GaussianBlur(img, (kernel_size, kernel_size), 0)\n",
    "\n",
    "def region_of_interest(img, vertices):\n",
    "    \"\"\"\n",
    "    Only keeps the region of the image defined by the polygon\n",
    "    formed from `vertices`. The rest of the image is set to black.\n",
    "    `vertices` should be a numpy array of integer points.\n",
    "    \"\"\"\n",
    "    #defining a blank mask to start with\n",
    "    mask = np.zeros_like(img)   \n",
    "    \n",
    "    #defining a 3 channel or 1 channel color to fill the mask with depending on the input image\n",
    "    if len(img.shape) > 2:\n",
    "        channel_count = img.shape[2]  # i.e. 3 or 4 depending on your image\n",
    "        ignore_mask_color = (255,) * channel_count\n",
    "    else:\n",
    "        ignore_mask_color = 255\n",
    "        \n",
    "    #filling pixels inside the polygon defined by \"vertices\" with the fill color    \n",
    "    cv2.fillPoly(mask, vertices, ignore_mask_color)\n",
    "    \n",
    "    #returning the image only where mask pixels are nonzero\n",
    "    masked_image = cv2.bitwise_and(img, mask)\n",
    "    return masked_image\n",
    "\n",
    "\n",
    "def draw_lines(img, lines, color=[255, 0, 0], thickness=10):\n",
    "    \"\"\"\n",
    "    Function that recives as imput the hough image and extract form it \n",
    "    the two lines corresponding to the left and right lane line\n",
    "\n",
    "    \"\"\"\n",
    "    # Define and initialize the global and local variables\n",
    "    global x_min_left_old\n",
    "    global x_max_left_old\n",
    "    global x_min_right_old\n",
    "    global x_max_right_old\n",
    "\n",
    "    m_mean_left = 0;\n",
    "    b_mean_left = 0;\n",
    "    count_left = 0;\n",
    "    x_min_left = 0;\n",
    "    x_max_left = 0;\n",
    "    \n",
    "    m_mean_right = 0;\n",
    "    b_mean_right = 0;\n",
    "    count_right = 0;\n",
    "    x_min_right = 0;\n",
    "    x_max_right = 0;\n",
    "    \n",
    "    y_min = 540   # y_min and y_max are defined equal to the ones of the polygon of the region of interest\n",
    "    y_max = 350 \n",
    "    \n",
    "    weight = 0.3 # weight between the old line and the new line detected\n",
    "    \n",
    "    ## Left and Right line extraction\n",
    "    \n",
    "    for line in lines:\n",
    "        for x1,y1,x2,y2 in line:\n",
    "            if  (y2-y1)/(x2-x1) < -0.2: # select only left lines with m < -0.2\n",
    "                m_mean_left = m_mean_left + (y2-y1)/(x2-x1)          # sum of the left slopes\n",
    "                b_mean_left = b_mean_left + y1 - (y2-y1)/(x2-x1)*x1  # sum of the left intersects\n",
    "                count_left = count_left + 1\n",
    "            elif (y2-y1)/(x2-x1) > 0.2: # select only right lines with m > 0.2\n",
    "                m_mean_right = m_mean_right + (y2-y1)/(x2-x1)         # sum of the right slopes\n",
    "                b_mean_right = b_mean_right + y1 - (y2-y1)/(x2-x1)*x1 # sum of the right intersects\n",
    "                count_right = count_right + 1\n",
    "                \n",
    "    if count_left != 0 :\n",
    "        m_mean_left = m_mean_left/ count_left   # average of the left slopes\n",
    "        b_mean_left = b_mean_left/ count_left   # average of the left intersects\n",
    "        x_min_left = int((y_min - b_mean_left)// m_mean_left) # define the x_min coordinate of the left line\n",
    "        x_max_left = int((y_max - b_mean_left)// m_mean_left) # define the x_max coordinate of the left line\n",
    "        \n",
    "        # Weighting function betwn the previous and current x left coordinates (since the y coordinates are fixed)\n",
    "        if x_min_left_old != 0 and x_max_left_old != 0 : \n",
    "            x_min_left = int(weight*x_min_left + (1-weight)*x_min_left_old)\n",
    "            x_max_left = int(weight*x_max_left + (1-weight)*x_max_left_old)\n",
    "            \n",
    "    left_line = cv2.line(img, (x_min_left, y_min), (x_max_left, y_max), color, thickness)\n",
    "        \n",
    "    if count_right != 0 :\n",
    "        m_mean_right = m_mean_right/ count_right # average of the right slopes\n",
    "        b_mean_right = b_mean_right/ count_right # average of the right intersects\n",
    "        x_min_right = int((y_min - b_mean_right)// m_mean_right) # define the x_min coordinate of the right line\n",
    "        x_max_right = int((y_max - b_mean_right)// m_mean_right) # define the x_max coordinate of the right line\n",
    "        \n",
    "        # Weighting function betwn the previous and current x right coordinates (since the y coordinates are fixed)\n",
    "        if x_min_right_old != 0 and x_max_right_old != 0 : \n",
    "            x_min_right = int(weight*x_min_right + (1-weight)*x_min_right_old)\n",
    "            x_max_right = int(weight*x_max_right + (1-weight)*x_max_right_old)\n",
    "            \n",
    "    right_line = cv2.line(img, (x_min_right, y_min), (x_max_right, y_max), color, thickness)\n",
    "    \n",
    "    # Save the current x coordinates for the next iteration \n",
    "    x_min_left_old = x_min_left\n",
    "    x_max_left_old = x_max_left\n",
    "    x_min_right_old = x_min_right\n",
    "    x_max_right_old = x_max_right\n",
    "    \n",
    "\n",
    "def hough_lines(img, rho, theta, threshold, min_line_len, max_line_gap):\n",
    "    \"\"\"\n",
    "    `Function that takes as input the output of a Canny transform \n",
    "    (img) and returns an image with hough lines drawn.\n",
    "    \"\"\"\n",
    "    lines = cv2.HoughLinesP(img, rho, theta, threshold, np.array([]), minLineLength=min_line_len, maxLineGap=max_line_gap)\n",
    "    line_img = np.zeros((img.shape[0], img.shape[1], 3), dtype=np.uint8)\n",
    "    draw_lines(line_img, lines)\n",
    "            \n",
    "    return line_img\n",
    "\n",
    "def weighted_img(img, initial_img, α=0.8, β=1., γ=0.):\n",
    "    \"\"\"\n",
    "    `img` is the output of the hough_lines(), An image with lines drawn on it.\n",
    "    Should be a blank image (all black) with lines drawn on it.\n",
    "    \n",
    "    `initial_img` should be the image before any processing.\n",
    "    \n",
    "    The result image is computed as follows:\n",
    "    \n",
    "    initial_img * α + img * β + γ\n",
    "    NOTE: initial_img and img must be the same shape!\n",
    "    \"\"\"\n",
    "    return cv2.addWeighted(initial_img, α, img, β, γ)"
   ]
  },
  {
   "cell_type": "markdown",
   "metadata": {},
   "source": [
    "Define a function that, taken as imput a single image, execute the whole pipeline for the lane lines detection."
   ]
  },
  {
   "cell_type": "code",
   "execution_count": 3,
   "metadata": {},
   "outputs": [],
   "source": [
    "def process_image(image):\n",
    "    gray_image = grayscale(image);\n",
    "    canny_image = canny(gray_image, 50, 150)\n",
    "    track_selection = np.array([[[400,350],[600,350],[900,540],[150,540]]]); \n",
    "    track_image = region_of_interest(canny_image, track_selection)\n",
    "    rho = 2  #distance resolution in pixels of the Hough grid\n",
    "    theta = np.pi/180 # angular resolution in radians of the Hough grid\n",
    "    threshold = 10    # minimum number of votes (intersections in Hough grid cell)\n",
    "    min_line_length = 20 #minimum number of pixels making up a line\n",
    "    max_line_gap = 5    # maximum gap in pixels between connectable line segments\n",
    "    hough_image = hough_lines(track_image,rho, theta, threshold, min_line_length, max_line_gap )\n",
    "    overlapped_image = weighted_img(hough_image, image);\n",
    "    \n",
    "    return overlapped_image"
   ]
  },
  {
   "cell_type": "markdown",
   "metadata": {},
   "source": [
    "# Test on images"
   ]
  },
  {
   "cell_type": "markdown",
   "metadata": {},
   "source": [
    "Define global variables"
   ]
  },
  {
   "cell_type": "code",
   "execution_count": 4,
   "metadata": {},
   "outputs": [],
   "source": [
    "x_min_left_old = 0 \n",
    "x_max_left_old = 0\n",
    "x_min_right_old = 0\n",
    "x_max_right_old = 0"
   ]
  },
  {
   "cell_type": "markdown",
   "metadata": {},
   "source": [
    "Read all the images"
   ]
  },
  {
   "cell_type": "code",
   "execution_count": 5,
   "metadata": {},
   "outputs": [],
   "source": [
    "raw_image = []\n",
    "image_name = []\n",
    "\n",
    "raw_image.append(mpimg.imread('test_images/solidWhiteRight.jpg'))\n",
    "image_name.append('test_images_output/solidWhiteRight.jpg')\n",
    "\n",
    "raw_image.append(mpimg.imread('test_images/solidWhiteCurve.jpg'))\n",
    "image_name.append('test_images_output/solidWhiteCurve.jpg')\n",
    "\n",
    "raw_image.append(mpimg.imread('test_images/solidYellowCurve.jpg'))\n",
    "image_name.append('test_images_output/solidYellowCurve.jpg')\n",
    "\n",
    "raw_image.append(mpimg.imread('test_images/solidYellowCurve2.jpg'))\n",
    "image_name.append('test_images_output/solidYellowCurve2.jpg')\n",
    "\n",
    "raw_image.append(mpimg.imread('test_images/solidYellowLeft.jpg'))\n",
    "image_name.append('test_images_output/solidYellowLeft.jpg')\n",
    "\n",
    "raw_image.append(mpimg.imread('test_images/whiteCarLaneSwitch.jpg'))\n",
    "image_name.append('test_images_output/whiteCarLaneSwitch.jpg')"
   ]
  },
  {
   "cell_type": "markdown",
   "metadata": {},
   "source": [
    "Execute the whole pipeline on the images and save it on 'test_images_output' folder"
   ]
  },
  {
   "cell_type": "code",
   "execution_count": 6,
   "metadata": {},
   "outputs": [],
   "source": [
    "for i in range(0, len(raw_image)):\n",
    "    overlapped_image = process_image(raw_image[i])\n",
    "    plt.imsave(image_name[i],overlapped_image)"
   ]
  },
  {
   "cell_type": "markdown",
   "metadata": {},
   "source": [
    "# Test on video"
   ]
  },
  {
   "cell_type": "markdown",
   "metadata": {},
   "source": [
    "Define global variables"
   ]
  },
  {
   "cell_type": "code",
   "execution_count": 7,
   "metadata": {},
   "outputs": [],
   "source": [
    "x_min_left_old = 0 \n",
    "x_max_left_old = 0\n",
    "x_min_right_old = 0\n",
    "x_max_right_old = 0"
   ]
  },
  {
   "cell_type": "markdown",
   "metadata": {},
   "source": [
    "Load the first clip, execute the pipeline and save the result into 'test_videos_output' folder"
   ]
  },
  {
   "cell_type": "code",
   "execution_count": 8,
   "metadata": {},
   "outputs": [
    {
     "name": "stderr",
     "output_type": "stream",
     "text": [
      "t:   2%|█▌                                                                   | 5/221 [00:00<00:04, 49.15it/s, now=None]"
     ]
    },
    {
     "name": "stdout",
     "output_type": "stream",
     "text": [
      "Moviepy - Building video test_videos_output/solidWhiteRight.mp4.\n",
      "Moviepy - Writing video test_videos_output/solidWhiteRight.mp4\n",
      "\n"
     ]
    },
    {
     "name": "stderr",
     "output_type": "stream",
     "text": [
      "                                                                                                                       \r"
     ]
    },
    {
     "name": "stdout",
     "output_type": "stream",
     "text": [
      "Moviepy - Done !\n",
      "Moviepy - video ready test_videos_output/solidWhiteRight.mp4\n",
      "Wall time: 4.3 s\n"
     ]
    }
   ],
   "source": [
    "white_output = 'test_videos_output/solidWhiteRight.mp4'\n",
    "clip1 = VideoFileClip(\"test_videos/solidWhiteRight.mp4\")\n",
    "white_clip = clip1.fl_image(process_image) #NOTE: this function expects color images!!\n",
    "%time white_clip.write_videofile(white_output, audio=False)"
   ]
  },
  {
   "cell_type": "markdown",
   "metadata": {},
   "source": [
    "Load the second clip, execute the pipeline and save the result into 'test_videos_output' folder"
   ]
  },
  {
   "cell_type": "code",
   "execution_count": 9,
   "metadata": {},
   "outputs": [
    {
     "name": "stderr",
     "output_type": "stream",
     "text": [
      "t:   1%|▌                                                                    | 6/681 [00:00<00:11, 59.57it/s, now=None]"
     ]
    },
    {
     "name": "stdout",
     "output_type": "stream",
     "text": [
      "Moviepy - Building video test_videos_output/solidYellowLeft.mp4.\n",
      "Moviepy - Writing video test_videos_output/solidYellowLeft.mp4\n",
      "\n"
     ]
    },
    {
     "name": "stderr",
     "output_type": "stream",
     "text": [
      "                                                                                                                       \r"
     ]
    },
    {
     "name": "stdout",
     "output_type": "stream",
     "text": [
      "Moviepy - Done !\n",
      "Moviepy - video ready test_videos_output/solidYellowLeft.mp4\n",
      "Wall time: 13.7 s\n"
     ]
    }
   ],
   "source": [
    "yellow_output = 'test_videos_output/solidYellowLeft.mp4'\n",
    "##clip2 = VideoFileClip('test_videos/solidYellowLeft.mp4').subclip(0,5)\n",
    "clip2 = VideoFileClip('test_videos/solidYellowLeft.mp4')\n",
    "yellow_clip = clip2.fl_image(process_image)\n",
    "%time yellow_clip.write_videofile(yellow_output, audio=False)"
   ]
  },
  {
   "cell_type": "markdown",
   "metadata": {},
   "source": [
    "Open an see the output of the lane detection."
   ]
  },
  {
   "cell_type": "code",
   "execution_count": 10,
   "metadata": {},
   "outputs": [
    {
     "data": {
      "text/html": [
       "\n",
       "<video width=\"960\" height=\"540\" controls>\n",
       "  <source src=\"test_videos_output/solidWhiteRight.mp4\">\n",
       "</video>\n"
      ],
      "text/plain": [
       "<IPython.core.display.HTML object>"
      ]
     },
     "execution_count": 10,
     "metadata": {},
     "output_type": "execute_result"
    }
   ],
   "source": [
    "HTML(\"\"\"\n",
    "<video width=\"960\" height=\"540\" controls>\n",
    "  <source src=\"{0}\">\n",
    "</video>\n",
    "\"\"\".format(white_output))"
   ]
  },
  {
   "cell_type": "code",
   "execution_count": 12,
   "metadata": {
    "scrolled": true
   },
   "outputs": [
    {
     "data": {
      "text/html": [
       "\n",
       "<video width=\"960\" height=\"540\" controls>\n",
       "  <source src=\"test_videos_output/solidYellowLeft.mp4\">\n",
       "</video>\n"
      ],
      "text/plain": [
       "<IPython.core.display.HTML object>"
      ]
     },
     "execution_count": 12,
     "metadata": {},
     "output_type": "execute_result"
    }
   ],
   "source": [
    "HTML(\"\"\"\n",
    "<video width=\"960\" height=\"540\" controls>\n",
    "  <source src=\"{0}\">\n",
    "</video>\n",
    "\"\"\".format(yellow_output))"
   ]
  },
  {
   "cell_type": "code",
   "execution_count": null,
   "metadata": {},
   "outputs": [],
   "source": []
  }
 ],
 "metadata": {
  "kernelspec": {
   "display_name": "Python 3",
   "language": "python",
   "name": "python3"
  },
  "language_info": {
   "codemirror_mode": {
    "name": "ipython",
    "version": 3
   },
   "file_extension": ".py",
   "mimetype": "text/x-python",
   "name": "python",
   "nbconvert_exporter": "python",
   "pygments_lexer": "ipython3",
   "version": "3.7.6"
  }
 },
 "nbformat": 4,
 "nbformat_minor": 2
}
